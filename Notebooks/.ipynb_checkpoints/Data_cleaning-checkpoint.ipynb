{
 "cells": [
  {
   "cell_type": "code",
   "execution_count": null,
   "id": "825d4c5b-a501-403c-b1ed-d81cac08f231",
   "metadata": {},
   "outputs": [],
   "source": [
    "import pandas as pd\n",
    "import numpy as np\n",
    "import ast\n",
    "from unidecode import unidecode"
   ]
  },
  {
   "cell_type": "code",
   "execution_count": null,
   "id": "f1b930fa-903d-4cd0-ae7c-8890610b6b0e",
   "metadata": {},
   "outputs": [],
   "source": [
    "name_basics_url = 'https://datasets.imdbws.com/name.basics.tsv.gz'\n",
    "name_basics_df = pd.read_csv(name_basics_url, compression='gzip', sep='\\t', low_memory=False)\n",
    "\n",
    "ratings_url = \"https://datasets.imdbws.com/title.ratings.tsv.gz\"\n",
    "ratings_df = pd.read_csv(ratings_url, compression='gzip', sep='\\t', low_memory=False)\n",
    "\n",
    "principals_url = \"https://datasets.imdbws.com/title.principals.tsv.gz\"\n",
    "principals_df = pd.read_csv(principals_url, compression='gzip', sep='\\t', low_memory=False)\n",
    "\n",
    "crew_url = \"https://datasets.imdbws.com/title.crew.tsv.gz\"\n",
    "crew_df = pd.read_csv(crew_url, compression='gzip', sep='\\t', low_memory=False)\n",
    "\n",
    "title_basics_url = \"https://datasets.imdbws.com/title.basics.tsv.gz\"\n",
    "title_basics_df = pd.read_csv(title_basics_url, compression='gzip', sep='\\t', low_memory=False)"
   ]
  },
  {
   "cell_type": "code",
   "execution_count": null,
   "id": "18e926b0-990b-43f3-b2e5-94a7e8d3f2e2",
   "metadata": {},
   "outputs": [],
   "source": [
    "# loading additional dataset to complete runtimeMinutes and genres columns \\N values\n",
    "additional_df = pd.read_csv(\"../Data/Raw/TMDB_movie_dataset_v11.tar.gz\", compression='gzip', low_memory=False)"
   ]
  },
  {
   "cell_type": "code",
   "execution_count": null,
   "id": "f808a005-75fe-4048-adc6-2ff31d171123",
   "metadata": {},
   "outputs": [],
   "source": [
    "name_basics_df"
   ]
  },
  {
   "cell_type": "code",
   "execution_count": null,
   "id": "70b8a574-233a-4103-95a9-de78d57e6b41",
   "metadata": {},
   "outputs": [],
   "source": [
    "ratings_df"
   ]
  },
  {
   "cell_type": "code",
   "execution_count": null,
   "id": "13583b6f-e9ec-4129-9568-4b7b1a9db73f",
   "metadata": {},
   "outputs": [],
   "source": [
    "principals_df"
   ]
  },
  {
   "cell_type": "code",
   "execution_count": null,
   "id": "9717e528-f3ad-4f41-9741-c9a897bcb587",
   "metadata": {},
   "outputs": [],
   "source": [
    "crew_df"
   ]
  },
  {
   "cell_type": "code",
   "execution_count": null,
   "id": "7033bedc-7ee2-47e4-8a74-d25e9e95152b",
   "metadata": {},
   "outputs": [],
   "source": [
    "title_basics_df"
   ]
  },
  {
   "cell_type": "code",
   "execution_count": null,
   "id": "2c1eb1fd-aa5f-4677-ac56-4dfb47a8ab1a",
   "metadata": {},
   "outputs": [],
   "source": [
    "additional_df = additional_df.drop(columns=['7e92ba80a4301f38b207cdac3829114d.csv'])\n",
    "additional_df"
   ]
  },
  {
   "cell_type": "markdown",
   "id": "7d2a7517-116f-458a-aebb-87e0c0bf13be",
   "metadata": {},
   "source": [
    "## [title_basics_df] to [movies_only_df] transformation:"
   ]
  },
  {
   "cell_type": "code",
   "execution_count": null,
   "id": "5b1f9e3f-49a6-444e-995f-55e3c98be980",
   "metadata": {},
   "outputs": [],
   "source": [
    "movies_only_df = title_basics_df[title_basics_df['titleType'] == 'movie'] # removing series and others from df - we only keep movies"
   ]
  },
  {
   "cell_type": "code",
   "execution_count": null,
   "id": "dca2f96f-80bc-4b96-bd98-a3f598ad690f",
   "metadata": {},
   "outputs": [],
   "source": [
    "movies_only_df = movies_only_df.dropna() # remove 2 empty rows (the other datasets have no NANs) "
   ]
  },
  {
   "cell_type": "code",
   "execution_count": null,
   "id": "d644c832-ead8-4729-bbf2-fbbf84be2214",
   "metadata": {},
   "outputs": [],
   "source": [
    "movies_only_df = movies_only_df.drop(columns=['endYear'])"
   ]
  },
  {
   "cell_type": "code",
   "execution_count": null,
   "id": "005b1767-4fd9-4362-bc63-127272089bf5",
   "metadata": {},
   "outputs": [],
   "source": [
    "# Replace \"\\N\" with \"missing_value\" on genres, startYear and runetimeMinutes columns\n",
    "columns_to_replace = ['runtimeMinutes', 'genres', \"startYear\"]\n",
    "movies_only_df[columns_to_replace] = movies_only_df[columns_to_replace].replace(\"\\\\N\", \"missing_value\")\n",
    "\n",
    "# Also modifying genres column name to evade duplicates when adding data from additional_df\n",
    "movies_only_df = movies_only_df.rename(columns={'genres': 'movieGenres'})"
   ]
  },
  {
   "cell_type": "code",
   "execution_count": null,
   "id": "c2892bae-ef71-4e8b-b42c-27bddd237fc8",
   "metadata": {},
   "outputs": [],
   "source": [
    "movies_only_df = movies_only_df[movies_only_df['startYear'] != 'missing_value']\n",
    "movies_only_df"
   ]
  },
  {
   "cell_type": "markdown",
   "id": "22e6be46-17ef-4f0a-8ad5-b2d6ac2f35ec",
   "metadata": {},
   "source": [
    "## Filtering movies by startYear (1978-2025)"
   ]
  },
  {
   "cell_type": "code",
   "execution_count": null,
   "id": "80b869b0-63ec-460c-9576-8c9ff108a368",
   "metadata": {},
   "outputs": [],
   "source": [
    "print(movies_only_df[\"startYear\"].value_counts())"
   ]
  },
  {
   "cell_type": "code",
   "execution_count": null,
   "id": "38d14868-9fb0-4da5-a92b-3615d4563e59",
   "metadata": {},
   "outputs": [],
   "source": [
    "movies_only_df['startYear'] = movies_only_df['startYear'].astype(int) # transforming column to integer\n",
    "movies_only_df = movies_only_df[movies_only_df[\"startYear\"] >= 1978] # filtering with movies after 1978\n",
    "movies_only_df = movies_only_df[movies_only_df[\"startYear\"] < 2025] # taking off movies after 2025 too"
   ]
  },
  {
   "cell_type": "code",
   "execution_count": null,
   "id": "0a254d8c-eefe-4b1a-aa44-7e3e29a86632",
   "metadata": {},
   "outputs": [],
   "source": [
    "movies_only_df"
   ]
  },
  {
   "cell_type": "code",
   "execution_count": null,
   "id": "e83372d7-2acd-4253-84ce-6e63f051ec2f",
   "metadata": {},
   "outputs": [],
   "source": [
    "print(movies_only_df[\"startYear\"].value_counts())"
   ]
  },
  {
   "cell_type": "markdown",
   "id": "e46dbc53-680a-46ec-a951-1da1671a966c",
   "metadata": {},
   "source": [
    "## Filling \"\\N\" values with available values from additional dataset -> additional_df"
   ]
  },
  {
   "cell_type": "code",
   "execution_count": null,
   "id": "05202dea-a545-49d9-8088-1467b177a14d",
   "metadata": {},
   "outputs": [],
   "source": [
    "# Check movies_only_df\n",
    "print(\"----------------genres---------------------\")\n",
    "print(movies_only_df[\"movieGenres\"].value_counts())\n",
    "print(\"\")\n",
    "print(\"------------runtimeMinutes-----------------\")\n",
    "print(movies_only_df[\"runtimeMinutes\"].value_counts())\n",
    "print(\"\")\n",
    "print(\"-------------------NaN---------------------\")\n",
    "print(movies_only_df.isna().sum())"
   ]
  },
  {
   "cell_type": "code",
   "execution_count": null,
   "id": "1b5358c7-1be8-4d92-b680-1acd495d9dde",
   "metadata": {},
   "outputs": [],
   "source": [
    "movies_only_df"
   ]
  },
  {
   "cell_type": "code",
   "execution_count": null,
   "id": "3e24df89-7e1d-4854-92b1-78e955a1004c",
   "metadata": {},
   "outputs": [],
   "source": [
    "# Merge DataFrames to align data\n",
    "merged_df = pd.merge(\n",
    "    movies_only_df,\n",
    "    additional_df,\n",
    "    left_on='tconst',\n",
    "    right_on='imdb_id',\n",
    "    how='left'\n",
    ")\n",
    "\n",
    "# Print merged_df columns for debugging\n",
    "print(\"Columns after merge:\", merged_df.columns)\n",
    "\n",
    "# Replace 'missing_value' in runtimeMinutes and movieGenres if available in additional data\n",
    "merged_df['runtimeMinutes'] = merged_df.apply(\n",
    "    lambda row: row['runtime'] if row['runtimeMinutes'] == 'missing_value' else row['runtimeMinutes'],\n",
    "    axis=1\n",
    ")\n",
    "merged_df['movieGenres'] = merged_df.apply(\n",
    "    lambda row: row['genres'] if row['movieGenres'] == 'missing_value' else row['movieGenres'],\n",
    "    axis=1\n",
    ")\n",
    "\n",
    "# Recreate movies_cleaned_df with correct column references\n",
    "movies_cleaned_df = merged_df[movies_only_df.columns.tolist()]"
   ]
  },
  {
   "cell_type": "code",
   "execution_count": null,
   "id": "e6c0d351-0cd2-4c86-9f86-7bc0733dc609",
   "metadata": {},
   "outputs": [],
   "source": [
    "# Check movies_cleaned_df -> we managed to reduce a bit the \"missing_value\"\n",
    "# From 33972 \"missing_value\" in \"movieGenres\" to 30040 --> (missing_values are transformed to NaN on previous code cell)\n",
    "# From 103212 in runtimeMinutes to 80830 --> will transform to integer and maybe delete the NaN and 0.0 rows\n",
    "print(\"----------------genres---------------------\")\n",
    "print(movies_cleaned_df[\"movieGenres\"].value_counts())\n",
    "print(\"\")\n",
    "print(\"------------runtimeMinutes-----------------\")\n",
    "print(movies_cleaned_df[\"runtimeMinutes\"].value_counts())\n",
    "print(\"\")\n",
    "print(\"-------------------NaN---------------------\")\n",
    "print(movies_cleaned_df.isna().sum())"
   ]
  },
  {
   "cell_type": "code",
   "execution_count": null,
   "id": "7045f043-f6d5-4944-9acf-ec286a826f96",
   "metadata": {},
   "outputs": [],
   "source": [
    "movies_cleaned_final_df = movies_cleaned_df.dropna() # remove rows with empty values \n",
    "movies_cleaned_final_df['runtimeMinutes'] = movies_cleaned_final_df['runtimeMinutes'].astype(int) # transform runetimeMinutes values to integer\n",
    "movies_cleaned_final_df = movies_cleaned_final_df[movies_cleaned_final_df['runtimeMinutes'] != 0] # drop rows where runetimeMinutes is 0"
   ]
  },
  {
   "cell_type": "code",
   "execution_count": null,
   "id": "01b7f951-f6dd-4183-8fcf-58159fbdb784",
   "metadata": {},
   "outputs": [],
   "source": [
    "movies_cleaned_final_df"
   ]
  },
  {
   "cell_type": "code",
   "execution_count": null,
   "id": "3ef4dd7e-eab6-45cb-927a-dfc732b753a8",
   "metadata": {},
   "outputs": [],
   "source": [
    "print(\"----------------genres---------------------\")\n",
    "print(movies_cleaned_final_df[\"movieGenres\"].value_counts())\n",
    "print(\"\")\n",
    "print(\"------------runtimeMinutes-----------------\")\n",
    "print(movies_cleaned_final_df[\"runtimeMinutes\"].value_counts())\n",
    "print(\"\")\n",
    "print(\"-------------------NaN---------------------\")\n",
    "print(movies_cleaned_final_df.isna().sum())"
   ]
  },
  {
   "cell_type": "markdown",
   "id": "e8fdd6b0-353f-4dee-9214-68cd13f50b33",
   "metadata": {},
   "source": [
    "## Handing the runtimeMinutes outliers + applying movieGenres filters:"
   ]
  },
  {
   "cell_type": "code",
   "execution_count": null,
   "id": "ae64467e-a2ed-4e9f-bad7-d5c4115637be",
   "metadata": {},
   "outputs": [],
   "source": [
    "# Count the number of entries where runtimeMinutes is greater than 200\n",
    "count_above_200 = len(movies_cleaned_final_df[movies_cleaned_final_df['runtimeMinutes'] > 200])\n",
    "\n",
    "# Alternatively, you can use sum() on a boolean condition\n",
    "count_above_200_alternative = (movies_cleaned_final_df['runtimeMinutes'] > 200).sum()\n",
    "\n",
    "# Display the result\n",
    "print(f\"Number of movies with runtimeMinutes greater than 200: {count_above_200}\")"
   ]
  },
  {
   "cell_type": "code",
   "execution_count": null,
   "id": "050373c0-3b61-4b31-b21e-b3151f1c1754",
   "metadata": {},
   "outputs": [],
   "source": [
    "# Function: Handling runtimeMinutes outliers \n",
    "def amend_runtime(runtime):\n",
    "    # Setting a practical runtime range, adjust as per context\n",
    "    MIN_RUNTIME = 60\n",
    "    MAX_RUNTIME = 220\n",
    "    \n",
    "    if runtime < MIN_RUNTIME:\n",
    "        return MIN_RUNTIME\n",
    "    elif runtime > MAX_RUNTIME:\n",
    "        return MAX_RUNTIME\n",
    "    else:\n",
    "        return runtime\n",
    "\n",
    "# Apply the amendment function to correct the runtimeMinutes\n",
    "movies_cleaned_final_df['runtimeMinutes'] = movies_cleaned_final_df['runtimeMinutes'].apply(amend_runtime)"
   ]
  },
  {
   "cell_type": "code",
   "execution_count": null,
   "id": "9feb9864-075d-4a0e-8d2b-abde4281fea8",
   "metadata": {},
   "outputs": [],
   "source": [
    "movies_cleaned_final_df = movies_cleaned_final_df.drop_duplicates(subset='tconst', keep='first') # removing duplicates\n",
    "movies_cleaned_final_df['movieGenres'] = movies_cleaned_final_df['movieGenres'].apply(lambda x: x.split(',')[0])"
   ]
  },
  {
   "cell_type": "code",
   "execution_count": null,
   "id": "54b544bb-ddb9-4061-9cac-65e118eaa669",
   "metadata": {},
   "outputs": [],
   "source": [
    "print(\"----------------genres---------------------\")\n",
    "print(movies_cleaned_final_df[\"movieGenres\"].value_counts())\n",
    "print(\"\")\n",
    "print(\"------------runtimeMinutes-----------------\")\n",
    "print(movies_cleaned_final_df[\"runtimeMinutes\"].value_counts())\n",
    "print(\"\")\n",
    "print(\"-------------------NaN---------------------\")\n",
    "print(movies_cleaned_final_df.isna().sum())"
   ]
  },
  {
   "cell_type": "code",
   "execution_count": null,
   "id": "53dfa366-3f97-45e0-a4ff-06d3b8c82c1c",
   "metadata": {},
   "outputs": [],
   "source": [
    "# Define the genres you want to exclude\n",
    "unwanted_genres = ['Documentary', 'Biography', 'Sport', 'History', 'Reality-TV', 'Talk-Show', 'News', 'TV Movie', 'Game-Show']\n",
    "\n",
    "# Filter the DataFrame to exclude rows where 'movieGenres' is in unwanted_genres\n",
    "movies_cleaned_final_df = movies_cleaned_final_df[~movies_cleaned_final_df['movieGenres'].isin(unwanted_genres)]"
   ]
  },
  {
   "cell_type": "code",
   "execution_count": null,
   "id": "4f5e8cde-b3ad-480a-a555-907fab758b5a",
   "metadata": {},
   "outputs": [],
   "source": [
    "movies_cleaned_final_df['movieGenres'] = movies_cleaned_final_df['movieGenres'].replace('Music', 'Musical') # Music genre -> Musical"
   ]
  },
  {
   "cell_type": "code",
   "execution_count": null,
   "id": "c688bc8f-dc48-49c1-b2e3-e739a16119d4",
   "metadata": {},
   "outputs": [],
   "source": [
    "movies_cleaned_final_df"
   ]
  },
  {
   "cell_type": "markdown",
   "id": "926c3b08-cbc7-4a07-8bcc-8146e3000157",
   "metadata": {},
   "source": [
    "## Reducing ratings, principals and crew df to keep data from movies on movies_cleaned_final_df only:"
   ]
  },
  {
   "cell_type": "code",
   "execution_count": null,
   "id": "889d515b-1762-4e6c-bcaa-39b60edd43da",
   "metadata": {},
   "outputs": [],
   "source": [
    "print(ratings_df.shape)\n",
    "print(principals_df.shape)\n",
    "print(crew_df.shape)"
   ]
  },
  {
   "cell_type": "code",
   "execution_count": null,
   "id": "90d6f7d8-7572-4d98-8496-e6fc477a2f3a",
   "metadata": {},
   "outputs": [],
   "source": [
    "# time to filter the other dataframes to keep only the movie related rows:\n",
    "filtered_ratings_df = ratings_df.merge(movies_cleaned_final_df[['tconst']], on='tconst', how='inner')\n",
    "filtered_principals_df = principals_df.merge(movies_cleaned_final_df[['tconst']], on='tconst', how='inner')\n",
    "filtered_crew_df = crew_df.merge(movies_cleaned_final_df[['tconst']], on='tconst', how='inner')"
   ]
  },
  {
   "cell_type": "code",
   "execution_count": null,
   "id": "6e7d1c92-ec3f-4f61-b7b1-288e6076ab66",
   "metadata": {
    "scrolled": true
   },
   "outputs": [],
   "source": [
    "print(filtered_ratings_df.shape)\n",
    "print(filtered_principals_df.shape)\n",
    "print(filtered_crew_df.shape)"
   ]
  },
  {
   "cell_type": "markdown",
   "id": "80889f88-7c08-4b8b-a971-241cf3c67865",
   "metadata": {},
   "source": [
    "## Cleaning [filtered_ratings_df]"
   ]
  },
  {
   "cell_type": "code",
   "execution_count": null,
   "id": "266399ee-cc8a-4375-ad79-33204998fd34",
   "metadata": {},
   "outputs": [],
   "source": [
    "filtered_ratings_df['averageRating'] = filtered_ratings_df['averageRating'].astype(float)\n",
    "filtered_ratings_df['numVotes'] = filtered_ratings_df['numVotes'].astype(int)"
   ]
  },
  {
   "cell_type": "code",
   "execution_count": null,
   "id": "48ce71c6-0619-4504-87b4-1271c99cd7f8",
   "metadata": {},
   "outputs": [],
   "source": [
    "filtered_ratings_df"
   ]
  },
  {
   "cell_type": "code",
   "execution_count": null,
   "id": "b8722d20-1214-4617-a102-549bd15a4d69",
   "metadata": {},
   "outputs": [],
   "source": [
    "print(\"-------------averageRating-----------------\")\n",
    "print(filtered_ratings_df[\"averageRating\"].value_counts())\n",
    "print(\"-----------------numVotes------------------\")\n",
    "print(filtered_ratings_df[\"numVotes\"].value_counts())\n",
    "print(\"\")\n",
    "print(\"-------------------NaN---------------------\")\n",
    "print(filtered_ratings_df.isna().sum())"
   ]
  },
  {
   "cell_type": "code",
   "execution_count": null,
   "id": "ab856131-dafb-4db2-93ac-2f0b8c01ff11",
   "metadata": {},
   "outputs": [],
   "source": [
    "filtered_ratings_df.min()"
   ]
  },
  {
   "cell_type": "code",
   "execution_count": null,
   "id": "680bba0b-675c-4302-93fc-0c27d25a4311",
   "metadata": {},
   "outputs": [],
   "source": [
    "filtered_ratings_df.max()"
   ]
  },
  {
   "cell_type": "code",
   "execution_count": null,
   "id": "0d606607-eeac-4755-9072-5568c5f5b664",
   "metadata": {},
   "outputs": [],
   "source": [
    "# Check for duplicates in 'tconst' and determine if there are any\n",
    "duplicates_exist_ratings = filtered_ratings_df.duplicated(subset='tconst', keep=False).any()\n",
    "\n",
    "# Output result\n",
    "print(\"Are there any duplicates in the 'tconst' column?\", duplicates_exist_ratings)"
   ]
  },
  {
   "cell_type": "code",
   "execution_count": null,
   "id": "13f404dd-3ebd-455a-9cb3-afa2a823e896",
   "metadata": {},
   "outputs": [],
   "source": [
    "filtered_ratings_df = filtered_ratings_df.drop_duplicates(subset='tconst', keep='first')"
   ]
  },
  {
   "cell_type": "code",
   "execution_count": null,
   "id": "90efd2fb-d7bf-46ca-bf29-7cb0763d5dc6",
   "metadata": {},
   "outputs": [],
   "source": [
    "filtered_ratings_df "
   ]
  },
  {
   "cell_type": "code",
   "execution_count": null,
   "id": "40ae197c-7ac7-4985-b710-8fc2c16b2459",
   "metadata": {},
   "outputs": [],
   "source": [
    "print(filtered_ratings_df.isna().sum()) # no empty values, but the nb of rows is smaller than our movies sample"
   ]
  },
  {
   "cell_type": "markdown",
   "id": "27888f94-a21e-4b59-9daf-5d2e91c35454",
   "metadata": {},
   "source": [
    "## Cleaning [filtered_principals_df]"
   ]
  },
  {
   "cell_type": "code",
   "execution_count": null,
   "id": "10b0dd8b-77a0-4428-b4d2-ce9845bd0b83",
   "metadata": {},
   "outputs": [],
   "source": [
    "# filtered_principals_df = filtered_principals_df.drop(columns=['ordering'])"
   ]
  },
  {
   "cell_type": "code",
   "execution_count": null,
   "id": "7396c599-a33d-4d4f-a1b5-98edfcbd135f",
   "metadata": {},
   "outputs": [],
   "source": [
    "filtered_principals_df"
   ]
  },
  {
   "cell_type": "code",
   "execution_count": null,
   "id": "5b79d2f1-834f-43c4-a35e-51d69876ea27",
   "metadata": {},
   "outputs": [],
   "source": [
    "print(\"-----------------category------------------\")\n",
    "print(filtered_principals_df[\"category\"].value_counts())\n",
    "print(\"-------------------job---------------------\")\n",
    "print(filtered_principals_df[\"job\"].value_counts())\n",
    "print(\"-------------------NaN---------------------\")\n",
    "print(filtered_principals_df.isna().sum())"
   ]
  },
  {
   "cell_type": "markdown",
   "id": "10912a54-4e91-4707-b368-97f7fcd8cd5b",
   "metadata": {},
   "source": [
    "## Cleaning [filtered_crew_df]"
   ]
  },
  {
   "cell_type": "code",
   "execution_count": null,
   "id": "fc19afa3-bac0-46ef-a725-d9106960d573",
   "metadata": {},
   "outputs": [],
   "source": [
    "filtered_crew_df"
   ]
  },
  {
   "cell_type": "code",
   "execution_count": null,
   "id": "af46c994-0e1c-4344-afef-96ed89b4c359",
   "metadata": {},
   "outputs": [],
   "source": [
    "print(\"-----------------directors-----------------\")\n",
    "print(filtered_crew_df[\"directors\"].value_counts())\n",
    "print(\"-----------------writers-------------------\")\n",
    "print(filtered_crew_df[\"writers\"].value_counts())\n",
    "print(\"-------------------NaN---------------------\")\n",
    "print(filtered_crew_df.isna().sum())"
   ]
  },
  {
   "cell_type": "code",
   "execution_count": null,
   "id": "f148a474-fb86-497c-9532-97329e785409",
   "metadata": {},
   "outputs": [],
   "source": [
    "filtered_crew_df['directors'] = filtered_crew_df['directors'].apply(lambda x: x.split(',')[0])\n",
    "filtered_crew_df['writers'] = filtered_crew_df['writers'].apply(lambda x: x.split(',')[0])"
   ]
  },
  {
   "cell_type": "code",
   "execution_count": null,
   "id": "0e3b0754-fc66-4de7-876e-a09cf08abfd6",
   "metadata": {},
   "outputs": [],
   "source": [
    "filtered_crew_df = filtered_crew_df.drop_duplicates(subset='tconst', keep='first')\n",
    "filtered_crew_df"
   ]
  },
  {
   "cell_type": "code",
   "execution_count": null,
   "id": "43209f8b-2e08-4b50-a949-f50d1f0f4da5",
   "metadata": {},
   "outputs": [],
   "source": [
    "# adding the director names from \"name_basics_df\"\n",
    "final_crew_df = pd.merge(\n",
    "    filtered_crew_df,\n",
    "    name_basics_df,\n",
    "    left_on='directors',\n",
    "    right_on='nconst',\n",
    "    how='left'\n",
    ")\n",
    "\n",
    "# moving the \"primaryName\" to \"directors\"\n",
    "final_crew_df['directors'] = final_crew_df['primaryName'] \n",
    "\n",
    "# keeping the initial columns\n",
    "final_crew_df = final_crew_df[filtered_crew_df.columns.tolist()]"
   ]
  },
  {
   "cell_type": "code",
   "execution_count": null,
   "id": "a652a4dc-e87b-4183-806e-af7ac617d986",
   "metadata": {},
   "outputs": [],
   "source": [
    "# adding the writer names from \"name_basics_df\"\n",
    "final_crew_df = pd.merge(\n",
    "    final_crew_df,\n",
    "    name_basics_df,\n",
    "    left_on='writers',\n",
    "    right_on='nconst',\n",
    "    how='left'\n",
    ")\n",
    "\n",
    "# moving the \"primaryName\" to \"directors\"\n",
    "final_crew_df['writers'] = final_crew_df['primaryName'] \n",
    "\n",
    "# keeping the initial columns\n",
    "final_crew_df = final_crew_df[filtered_crew_df.columns.tolist()]"
   ]
  },
  {
   "cell_type": "code",
   "execution_count": null,
   "id": "272eaf92-6030-4f76-b0d3-8cbc4e3ba09d",
   "metadata": {},
   "outputs": [],
   "source": [
    "final_crew_df"
   ]
  },
  {
   "cell_type": "code",
   "execution_count": null,
   "id": "afc7de60-e295-4b19-8b1c-15bebcf9bc3a",
   "metadata": {},
   "outputs": [],
   "source": [
    "print(final_crew_df.isna().sum()) # we are missing some directors and many writers"
   ]
  },
  {
   "cell_type": "code",
   "execution_count": null,
   "id": "c9c6b9ae-8d73-4a71-94ab-c3159145111b",
   "metadata": {},
   "outputs": [],
   "source": [
    "# drop writers column\n",
    "final_crew_df = final_crew_df.drop(columns=['writers'])"
   ]
  },
  {
   "cell_type": "code",
   "execution_count": null,
   "id": "9e33ff0f-9d91-4e8e-993d-030a929e3715",
   "metadata": {},
   "outputs": [],
   "source": [
    "print(final_crew_df.isna().sum())"
   ]
  },
  {
   "cell_type": "markdown",
   "id": "511c22b7-12cd-47f8-9720-fd9db8472786",
   "metadata": {},
   "source": [
    "## Merging [final_crew_df], [filtered_ratings_df] and [movies_cleaned_final_df]"
   ]
  },
  {
   "cell_type": "code",
   "execution_count": null,
   "id": "634d7b93-e864-44d1-85e0-1969baf280f0",
   "metadata": {},
   "outputs": [],
   "source": [
    "movies_cleaned_final_df"
   ]
  },
  {
   "cell_type": "code",
   "execution_count": null,
   "id": "0382c415-3b37-44db-8d3d-f1ac23c7d5cf",
   "metadata": {},
   "outputs": [],
   "source": [
    "# Merge based on 'tconst' (2 steps) - 1st step:\n",
    "merged_df_1 = pd.merge(movies_cleaned_final_df, final_crew_df, on='tconst', how='left')\n",
    "\n",
    "# 2nd step\n",
    "final_movies_df = pd.merge(merged_df_1, filtered_ratings_df, on='tconst', how='left')"
   ]
  },
  {
   "cell_type": "code",
   "execution_count": null,
   "id": "0c957d09-27ab-4d4c-818e-67b5ec2743a1",
   "metadata": {},
   "outputs": [],
   "source": [
    "final_movies_df"
   ]
  },
  {
   "cell_type": "code",
   "execution_count": null,
   "id": "2b40077a-c7d8-438e-b5f5-debdec944207",
   "metadata": {},
   "outputs": [],
   "source": [
    "# creating a new DF removing the empty values to have all the movies with ratings\n",
    "ratings_movies_df = final_movies_df.dropna()"
   ]
  },
  {
   "cell_type": "code",
   "execution_count": null,
   "id": "d4887326-c81c-4502-95e8-c087e940f826",
   "metadata": {},
   "outputs": [],
   "source": [
    "ratings_movies_df['averageRating'] = ratings_movies_df['averageRating'].astype(float)\n",
    "ratings_movies_df['numVotes'] = ratings_movies_df['numVotes'].astype(int)\n",
    "ratings_movies_df"
   ]
  },
  {
   "cell_type": "code",
   "execution_count": null,
   "id": "77a6332f-3504-4b6e-949f-a92e5c3de995",
   "metadata": {},
   "outputs": [],
   "source": [
    "print(\"-----------------isAdult-----------------\")\n",
    "print(ratings_movies_df[\"isAdult\"].value_counts()) # The isAdult values from the dataset are wrong so we are not using them for analytical purposes\n",
    "print(\"---------...----numVotes-----------------\")\n",
    "print(ratings_movies_df[\"numVotes\"].value_counts())\n",
    "print(\"-------------averageRating---------------\")\n",
    "print(ratings_movies_df[\"averageRating\"].value_counts())"
   ]
  },
  {
   "cell_type": "code",
   "execution_count": null,
   "id": "fd1fde40-6ab5-4908-a8eb-2b56ebbc52b7",
   "metadata": {},
   "outputs": [],
   "source": []
  },
  {
   "cell_type": "markdown",
   "id": "fa580312-d036-472b-8d6d-00090cfeb7d6",
   "metadata": {},
   "source": [
    "# Actors and movie-ratings DataFrame"
   ]
  },
  {
   "cell_type": "code",
   "execution_count": null,
   "id": "56294d4f-51a9-49a7-9aac-c85349f96877",
   "metadata": {},
   "outputs": [],
   "source": [
    "# ratings_movies_df\n",
    "# name_basics_df\n",
    "# filtered_principals_df"
   ]
  },
  {
   "cell_type": "code",
   "execution_count": null,
   "id": "30f191d4-4000-44e6-88c8-8a3d0db86c53",
   "metadata": {},
   "outputs": [],
   "source": [
    "actors_filtered_df = filtered_principals_df[filtered_principals_df['category'].isin(['actor', 'actress'])]"
   ]
  },
  {
   "cell_type": "code",
   "execution_count": null,
   "id": "0badba6a-2143-4fc6-b804-05d8adbad30c",
   "metadata": {},
   "outputs": [],
   "source": [
    "actors_filtered_df"
   ]
  },
  {
   "cell_type": "code",
   "execution_count": null,
   "id": "ecf45cd4-26c8-45af-ae99-3006cfc3203d",
   "metadata": {},
   "outputs": [],
   "source": [
    "# Merge based on 'tconst' (2 steps) - 1st step:\n",
    "merged_df_2 = pd.merge(actors_filtered_df, ratings_movies_df, on='tconst', how='left')\n",
    "\n",
    "# 2nd step\n",
    "actors_df = pd.merge(merged_df_2, name_basics_df, on='nconst', how='left')"
   ]
  },
  {
   "cell_type": "code",
   "execution_count": null,
   "id": "bed4227a-01e5-4baa-be63-586da2d63b2a",
   "metadata": {},
   "outputs": [],
   "source": [
    "actors_df = actors_df.dropna()\n",
    "actors_df = actors_df.drop(columns=['titleType', \"job\", \"knownForTitles\", \"primaryProfession\", \"primaryProfession\"])"
   ]
  },
  {
   "cell_type": "code",
   "execution_count": null,
   "id": "d8777f3c-cb0c-4ea8-8105-21a37e3f2000",
   "metadata": {},
   "outputs": [],
   "source": [
    "actors_df.columns"
   ]
  },
  {
   "cell_type": "code",
   "execution_count": null,
   "id": "00cfaf7e-3599-4079-86a2-7dbf2262ff1e",
   "metadata": {},
   "outputs": [],
   "source": [
    "actors_df = actors_df.rename(columns={'startYear': 'MovieReleaseYear'})\n",
    "\n",
    "new_column_order = [\"tconst\",\"nconst\",'primaryName',\"category\", \"birthYear\", \"deathYear\", \"primaryTitle\", 'MovieReleaseYear', \"isAdult\", \"averageRating\", \"numVotes\"] + [col for col in actors_df.columns if col not in [\"tconst\",\"nconst\",'primaryName',\"category\", \"birthYear\", \"deathYear\", \"primaryTitle\", 'MovieReleaseYear', \"isAdult\", \"averageRating\", \"numVotes\"]]\n",
    "actors_df = actors_df[new_column_order]"
   ]
  },
  {
   "cell_type": "code",
   "execution_count": null,
   "id": "b94281eb-47cb-4898-a8bb-cc1d528624a2",
   "metadata": {},
   "outputs": [],
   "source": [
    "# amending types\n",
    "actors_df['averageRating'] = actors_df['averageRating'].astype(float)\n",
    "actors_df['numVotes'] = actors_df['numVotes'].astype(int)\n",
    "actors_df['MovieReleaseYear'] = actors_df['MovieReleaseYear'].astype(int)\n",
    "actors_df['runtimeMinutes'] = actors_df['runtimeMinutes'].astype(int)"
   ]
  },
  {
   "cell_type": "code",
   "execution_count": null,
   "id": "bd4f7600-6547-415d-bbf5-612a9ca5cca3",
   "metadata": {},
   "outputs": [],
   "source": [
    "actors_df = actors_df[actors_df[\"MovieReleaseYear\"] >= 2010] # filtering actors with movies after 2010 because the dataset is huge"
   ]
  },
  {
   "cell_type": "code",
   "execution_count": null,
   "id": "f6325dc5-8380-4d98-90c8-004734809fda",
   "metadata": {},
   "outputs": [],
   "source": [
    "actors_df"
   ]
  },
  {
   "cell_type": "code",
   "execution_count": null,
   "id": "ec97fefd-f123-4305-bc77-87eb68528594",
   "metadata": {},
   "outputs": [],
   "source": [
    "print(actors_df.isna().sum()) # no nulls, only \\N wich is OK"
   ]
  },
  {
   "cell_type": "markdown",
   "id": "f2884874-4c11-4164-b280-069e9b33848c",
   "metadata": {},
   "source": [
    "# Preparing SQL Tables"
   ]
  },
  {
   "cell_type": "code",
   "execution_count": null,
   "id": "c0d9e9d5-d032-41a2-91dc-569e911f574c",
   "metadata": {},
   "outputs": [],
   "source": [
    "# merging movies - crew - ratings:\n",
    "merged_df_sql1 = pd.merge(movies_cleaned_final_df, filtered_crew_df, on='tconst', how='left')\n",
    "\n",
    "movies_sql = pd.merge(merged_df_sql1, filtered_ratings_df, on='tconst', how='left')"
   ]
  },
  {
   "cell_type": "markdown",
   "id": "f104686e-d0c8-4385-9d3b-083f6c54f4db",
   "metadata": {},
   "source": [
    "## 1st: characters table\n"
   ]
  },
  {
   "cell_type": "code",
   "execution_count": null,
   "id": "c1037e17-623a-4290-b326-e73de09df8d2",
   "metadata": {},
   "outputs": [],
   "source": [
    "characters_sql = filtered_principals_df[filtered_principals_df['category'].isin(['actor', 'actress'])] # filter by actor/actress\n",
    "\n",
    "# column order:\n",
    "characters_column_order = [\"ordering\",\"characters\"] + [col for col in characters_sql.columns if col not in [\"ordering\",\"characters\"]]\n",
    "characters_sql = characters_sql[characters_column_order]\n",
    "\n",
    "characters_sql['ordering'] = range(1, len(characters_sql) + 1) # preparing ordering as main key with unique values\n",
    "\n",
    "characters_sql['characters'] = characters_sql['characters'].apply(lambda x: ast.literal_eval(x)[0] if x != '\\\\N' else x) # cleaning column characters\n",
    "\n",
    "characters_sql = characters_sql.drop(columns=['job']) # drop column \"job\" as all values are \\N"
   ]
  },
  {
   "cell_type": "code",
   "execution_count": null,
   "id": "0094ad92-6632-4b03-b72f-8f3fa2915a86",
   "metadata": {},
   "outputs": [],
   "source": [
    "# Merge characters_sql with movies_sql to include the startYear column\n",
    "final_characters_sql = characters_sql.merge(movies_sql[['tconst', 'startYear']], on='tconst', how='left')\n",
    "\n",
    "final_characters_sql = final_characters_sql[final_characters_sql[\"startYear\"] >= 2020] # reducing the amount of data\n",
    "\n",
    "final_characters_sql = final_characters_sql.drop(columns=['startYear']) # dropping startYear after filtering"
   ]
  },
  {
   "cell_type": "code",
   "execution_count": null,
   "id": "038f4406-b413-499e-9e07-c37dfccfc9f0",
   "metadata": {},
   "outputs": [],
   "source": [
    "final_characters_sql"
   ]
  },
  {
   "cell_type": "markdown",
   "id": "7b5e0db3-5f20-445c-af63-dbe1e806e631",
   "metadata": {},
   "source": [
    "## 2nd: crew table"
   ]
  },
  {
   "cell_type": "code",
   "execution_count": null,
   "id": "b41d6c21-0b9e-499c-bd2e-f6c381d5a435",
   "metadata": {},
   "outputs": [],
   "source": [
    "movies_sql['averageRating'] = movies_sql['averageRating'].astype(float)\n",
    "\n",
    "# Convert 'numVotes' to integer using a fill value, such as 0 for NaN\n",
    "movies_sql['numVotes'] = movies_sql['numVotes'].fillna(0).astype(int)"
   ]
  },
  {
   "cell_type": "code",
   "execution_count": null,
   "id": "24f1de00-7a1f-4a51-8f6a-63c46212a7fa",
   "metadata": {},
   "outputs": [],
   "source": [
    "crew_sql = movies_sql[[\"tconst\", 'directors', 'writers']]\n",
    "crew_sql.insert(0, 'id', range(1, len(crew_sql) + 1))\n",
    "crew_sql = crew_sql.drop(columns=['writers'])"
   ]
  },
  {
   "cell_type": "code",
   "execution_count": null,
   "id": "85ee245d-c099-4e10-b243-92bb1c8ad686",
   "metadata": {},
   "outputs": [],
   "source": [
    "# Merge crew_sql with movies_sql to include the startYear column\n",
    "final_crew_sql = crew_sql.merge(movies_sql[['tconst', 'startYear']], on='tconst', how='left')\n",
    "\n",
    "# Filter final_crew_sql to include only rows where startYear is 2020 or later\n",
    "final_crew_sql = final_crew_sql[final_crew_sql[\"startYear\"] >= 2020]\n",
    "\n",
    "final_crew_sql = final_crew_sql.drop(columns=['startYear']) # dropping startYear after filtering\n",
    "\n",
    "# final_crew_sql['directors'] = final_crew_sql['directors'].apply(lambda x: x.split(',')[0])"
   ]
  },
  {
   "cell_type": "code",
   "execution_count": null,
   "id": "0c43d05b-42ac-4514-8a6a-a4b90732675b",
   "metadata": {},
   "outputs": [],
   "source": [
    "final_crew_sql"
   ]
  },
  {
   "cell_type": "markdown",
   "id": "6bdf5ca7-6e09-45ea-b6dc-2aae34e0eab6",
   "metadata": {},
   "source": [
    "## 3rd:  movies table"
   ]
  },
  {
   "cell_type": "code",
   "execution_count": null,
   "id": "c02aa7ee-7dff-46a0-bedb-c564fbe95585",
   "metadata": {},
   "outputs": [],
   "source": [
    "movies_sql = movies_sql.drop(columns=['directors', 'writers'])"
   ]
  },
  {
   "cell_type": "code",
   "execution_count": null,
   "id": "cb621ff2-33b8-44cb-bef6-c5b116fbf870",
   "metadata": {},
   "outputs": [],
   "source": [
    "# cleaning special characters from title columns:\n",
    "\n",
    "# Apply unidecode to all string columns to remove accents\n",
    "movies_sql = movies_sql.applymap(lambda x: unidecode(x) if isinstance(x, str) else x)"
   ]
  },
  {
   "cell_type": "code",
   "execution_count": null,
   "id": "0fcd4b3d-19a8-45eb-b0bb-c109246c947c",
   "metadata": {},
   "outputs": [],
   "source": [
    "movies_sql['averageRating'] = movies_sql['averageRating'].apply(lambda x: None if pd.isna(x) else x)\n",
    "movies_sql['averageRating'] = movies_sql['averageRating'].fillna(-1.0)"
   ]
  },
  {
   "cell_type": "code",
   "execution_count": null,
   "id": "56ebd23e-ebd2-4727-98bd-628ee42b2e7b",
   "metadata": {},
   "outputs": [],
   "source": [
    "final_movies_sql = movies_sql[movies_sql[\"startYear\"] >= 2020] # reducing the amount of data\n",
    "final_movies_sql = final_movies_sql.drop(columns=['isAdult']) # dropping startYear after filtering\n",
    "final_movies_sql"
   ]
  },
  {
   "cell_type": "code",
   "execution_count": null,
   "id": "e6687c33-e2af-4330-868b-0e1f436b953b",
   "metadata": {},
   "outputs": [],
   "source": [
    "print(\"-------------startYear---------------\")\n",
    "print(movies_sql[\"startYear\"].dtype)\n",
    "print(\"-------------averageRating---------------\")\n",
    "print(movies_sql[\"averageRating\"].dtype)"
   ]
  },
  {
   "cell_type": "markdown",
   "id": "f21cc933-5ae6-486a-b99d-b1b4ae1fe5d2",
   "metadata": {},
   "source": [
    "# 4th: Individuals table"
   ]
  },
  {
   "cell_type": "code",
   "execution_count": null,
   "id": "84e9099b-54b5-4f89-9e6e-7513db21f46a",
   "metadata": {},
   "outputs": [],
   "source": [
    "individuals_sql = name_basics_df.applymap(lambda x: unidecode(x) if isinstance(x, str) else x) # Apply unidecode to all string columns to remove accents"
   ]
  },
  {
   "cell_type": "code",
   "execution_count": null,
   "id": "90608a86-f86a-435a-b462-889b94717a2a",
   "metadata": {},
   "outputs": [],
   "source": [
    "# Identify unique nconst values in final_characters_sql and final_crew_sql (for directors)\n",
    "nconst_chars = final_characters_sql['nconst'].unique()\n",
    "nconst_crew_directors = final_crew_sql['directors'].unique()\n",
    "\n",
    "# Compute the intersection of these two sets\n",
    "common_nconst = set(nconst_chars) & set(nconst_crew_directors)"
   ]
  },
  {
   "cell_type": "code",
   "execution_count": null,
   "id": "cf8ef3a3-fb62-4ec8-814d-10deeede17a3",
   "metadata": {},
   "outputs": [],
   "source": [
    "final_individuals_sql = individuals_sql[individuals_sql['nconst'].isin(common_nconst)]"
   ]
  },
  {
   "cell_type": "code",
   "execution_count": null,
   "id": "de8f3e8d-883d-4bca-b52e-5b13af4dc3dc",
   "metadata": {},
   "outputs": [],
   "source": [
    "# Replace '\\N' with 'unknown' in 'birthYear' and 'alive' in 'deathYear'\n",
    "final_individuals_sql['birthYear'] = final_individuals_sql['birthYear'].replace('\\\\N', 'unknown')\n",
    "final_individuals_sql['deathYear'] = final_individuals_sql['deathYear'].replace('\\\\N', 'alive')"
   ]
  },
  {
   "cell_type": "code",
   "execution_count": null,
   "id": "75d75670-f71c-4d8e-bf7f-527c1c8f9e1c",
   "metadata": {},
   "outputs": [],
   "source": [
    "final_individuals_sql['knownForTitles'] = final_individuals_sql['knownForTitles'].apply(lambda x: x.split(',')[0])"
   ]
  },
  {
   "cell_type": "code",
   "execution_count": null,
   "id": "ef565c83-9591-4b58-9116-3c3929fb7d7f",
   "metadata": {},
   "outputs": [],
   "source": [
    "final_individuals_sql"
   ]
  },
  {
   "cell_type": "markdown",
   "id": "c761aa24-dcdb-4834-ba93-582662c39a41",
   "metadata": {},
   "source": [
    "# Creating streamlit tables"
   ]
  },
  {
   "cell_type": "code",
   "execution_count": null,
   "id": "4c3df1ec-e1c3-46ae-9edb-61bba7ae1151",
   "metadata": {},
   "outputs": [],
   "source": [
    "actors_app = actors_df.drop(columns=['tconst', 'nconst', 'isAdult', 'ordering', 'directors', 'originalTitle', 'runtimeMinutes', 'originalTitle']) \n",
    "actors_app = actors_app.rename(columns={'MovieReleaseYear': 'Movie_Release_Year', 'primaryName': 'Name', 'category': 'Gender', 'primaryTitle': 'Movie_Title', \n",
    "                                        'birthYear': 'Birth_Year', 'deathYear': 'Death_Year', 'averageRating': 'Average_Rating', 'numVotes': 'Votes',\n",
    "                                        'characters': 'Character', 'movieGenres': 'Movie_Genre'})\n",
    "actors_app = actors_app[actors_app[\"Movie_Release_Year\"] >= 2010]\n",
    "actors_app"
   ]
  },
  {
   "cell_type": "code",
   "execution_count": null,
   "id": "572cc637-453e-467d-b95d-599ea9c59a3a",
   "metadata": {},
   "outputs": [],
   "source": [
    "movies_app = ratings_movies_df.drop(columns=['tconst', 'titleType', 'isAdult']) \n",
    "movies_app = movies_app.rename(columns={'primaryTitle': 'Title', 'originalTitle': 'Original_Title', 'startYear': 'Movie_Release_Year', 'runtimeMinutes': 'Movie_Duration_(mins.)', \n",
    "                                        'movieGenres': 'Movie_Genre', 'directors': 'Director', 'averageRating': 'Average_Rating', 'numVotes': 'Votes'})\n",
    "movies_app = movies_app[movies_app[\"Movie_Release_Year\"] >= 2010]\n",
    "movies_app"
   ]
  },
  {
   "cell_type": "markdown",
   "id": "84c1c1df-7e85-4f1a-9c63-99716091d1d9",
   "metadata": {},
   "source": [
    "# Generating .csv files"
   ]
  },
  {
   "cell_type": "code",
   "execution_count": null,
   "id": "c18a2be7-07f7-4e9d-b824-99395d9a8517",
   "metadata": {},
   "outputs": [],
   "source": [
    "# EDA and analysis DataFrames --> compressed :)\n",
    "actors_df.to_csv('../Data/Clean/actors.csv.gz', sep=';', encoding='utf-8', index=False, compression='gzip')\n",
    "ratings_movies_df.to_csv('../Data/Clean/movies.csv.gz', sep=';', encoding='utf-8', index=False, compression='gzip')"
   ]
  },
  {
   "cell_type": "code",
   "execution_count": null,
   "id": "06253243-06c5-4a58-9383-8d7069ceba19",
   "metadata": {},
   "outputs": [],
   "source": [
    "#tableau .csv\n",
    "actors_df.to_csv('../Data/Clean/actors.csv', sep=';', encoding='utf-8', index=False)\n",
    "ratings_movies_df.to_csv('../Data/Clean/movies.csv', sep=';', encoding='utf-8', index=False)"
   ]
  },
  {
   "cell_type": "code",
   "execution_count": null,
   "id": "ade8c861-62ac-4849-ae1e-5de67d2d6703",
   "metadata": {},
   "outputs": [],
   "source": [
    "# SQL DataFrames --> separator = ; / encoding = utf8 / index = false\n",
    "# SQL - remember not restrict as not null on sql!\n",
    "final_characters_sql.to_csv('../Data/Clean/characters_sql.csv', sep=';', encoding='utf-8', index=False)\n",
    "final_movies_sql.to_csv('../Data/Clean/movies_sql.csv', sep=';', encoding='utf-8', index=False)\n",
    "final_crew_sql.to_csv('../Data/Clean/crew_sql.csv', sep=';', encoding='utf-8', index=False)\n",
    "final_individuals_sql.to_csv('../Data/Clean/individuals_sql.csv', sep=';', encoding='utf-8', index=False)"
   ]
  },
  {
   "cell_type": "code",
   "execution_count": null,
   "id": "69539c5e-fbce-4e8a-ab1d-0bbfac1a943d",
   "metadata": {},
   "outputs": [],
   "source": [
    "# Streamlit files:\n",
    "movies_app.to_csv('../Data/Clean/movies_app.csv', sep=';', encoding='utf-8', index=False)\n",
    "actors_app.to_csv('../Data/Clean/actors_app.csv', sep=';', encoding='utf-8', index=False)"
   ]
  }
 ],
 "metadata": {
  "kernelspec": {
   "display_name": "Python 3 (ipykernel)",
   "language": "python",
   "name": "python3"
  },
  "language_info": {
   "codemirror_mode": {
    "name": "ipython",
    "version": 3
   },
   "file_extension": ".py",
   "mimetype": "text/x-python",
   "name": "python",
   "nbconvert_exporter": "python",
   "pygments_lexer": "ipython3",
   "version": "3.12.3"
  }
 },
 "nbformat": 4,
 "nbformat_minor": 5
}
